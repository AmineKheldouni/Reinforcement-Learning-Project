{
 "cells": [
  {
   "cell_type": "markdown",
   "metadata": {},
   "source": [
    "# A Unified View of Entropy-Regularized Markov Decision Processes:\n",
    "## Article Review\n",
    "\n"
   ]
  },
  {
   "cell_type": "code",
   "execution_count": 17,
   "metadata": {},
   "outputs": [],
   "source": [
    "import numpy as np\n",
    "import matplotlib.pyplot as plt\n",
    "from tqdm import tqdm\n",
    "import time\n",
    "from renderer import *\n",
    "from gridworld import *\n",
    "\n",
    "import scipy\n",
    "import scipy.optimize as opt\n",
    "import pdb"
   ]
  },
  {
   "cell_type": "code",
   "execution_count": 2,
   "metadata": {},
   "outputs": [],
   "source": [
    "grid1 = [\n",
    "    ['', '', '', 1],\n",
    "    ['', 'x', '', -1],\n",
    "    ['', '', '', '']\n",
    "]\n",
    "\n",
    "env = GridWorld(gamma=0.95, grid=grid1)"
   ]
  },
  {
   "cell_type": "code",
   "execution_count": 3,
   "metadata": {},
   "outputs": [],
   "source": [
    "class Policy(object):\n",
    "    def __init__(self,pi):\n",
    "        n_states,n_actions = np.shape(pi)\n",
    "        self.n_actions = n_actions\n",
    "        self.n_states = n_states\n",
    "        self.pi = pi\n",
    "    def draw_action(self,state):\n",
    "        u = np.random.rand()\n",
    "        probas = np.cumsum(self.pi[state,:])\n",
    "        a = 0\n",
    "        while (a < self.n_actions-1 and (u > probas[a] or self.pi[state,a]==0)):\n",
    "            a += 1\n",
    "        return a"
   ]
  },
  {
   "cell_type": "code",
   "execution_count": 103,
   "metadata": {},
   "outputs": [],
   "source": [
    "class RLModel:\n",
    "    def __init__(self, env):\n",
    "        self.env = env\n",
    "        self.moving_rewards = []\n",
    "        self.episode_count = 0\n",
    "\n",
    "    def initialize_pi(self):\n",
    "        pi = np.zeros((self.env.n_states,self.env.n_actions))\n",
    "        for s in range(self.env.n_states):\n",
    "            actions = self.env.state_actions[s]\n",
    "            for a in actions:\n",
    "                pi[s,a] = 1./len(actions)\n",
    "        return pi\n",
    "    \n",
    "    def collect_episodes(self, policy=None, horizon=None, n_episodes=1, render=False):\n",
    "        paths = []\n",
    "\n",
    "        for _ in range(n_episodes):\n",
    "            observations = []\n",
    "            actions = []\n",
    "            rewards = []\n",
    "            next_states = []\n",
    "\n",
    "            state = self.env.reset()\n",
    "            ep_r = 0\n",
    "            for _ in range(horizon):\n",
    "                action = policy.draw_action(state)\n",
    "                next_state, reward, terminal = self.env.step(state,action)\n",
    "                ep_r += reward\n",
    "                if render:\n",
    "                    self.env.render()\n",
    "                observations.append(state)\n",
    "                actions.append(action)\n",
    "                rewards.append(reward)\n",
    "                next_states.append(next_state)\n",
    "                state = copy.copy(next_state)\n",
    "                if terminal:\n",
    "                    # Finish rollout if terminal state reached\n",
    "                    if len(self.moving_rewards) == 0:  # record running episode reward\n",
    "                        self.moving_rewards.append(ep_r)\n",
    "                    else:\n",
    "                        self.moving_rewards.append(0.9 * self.moving_rewards[-1] + 0.1 * ep_r)\n",
    "                    self.episode_count += 1\n",
    "                    break\n",
    "                    # We need to compute the empirical return for each time step along the\n",
    "                    # trajectory\n",
    "            paths.append(dict(\n",
    "                states=np.array(observations),\n",
    "                actions=np.array(actions),\n",
    "                rewards=np.array(rewards),\n",
    "                next_states=np.array(next_states)\n",
    "            ))\n",
    "        return paths\n",
    "\n",
    "    \n",
    "    def render_policy(self):\n",
    "        render_policy(self.env,self.policy.pi)\n",
    "        \n",
    "    def plot_avg_moving_rwd(self,name):\n",
    "        avg_moving_reward = self.moving_rewards\n",
    "        plt.plot(np.arange(len(avg_moving_reward[100:])), avg_moving_reward[100:])\n",
    "        plt.xlabel('Step')\n",
    "        plt.ylabel('Total moving reward')\n",
    "        plt.savefig(name)\n",
    "        plt.title(name)\n",
    "        plt.show()\n",
    "\n",
    "    def mean_reward(self,ite):\n",
    "        print(\"Mean of the reward along the last \",ite,\" iterations :\",np.mean(self.moving_rewards[-ite:]))"
   ]
  },
  {
   "cell_type": "markdown",
   "metadata": {},
   "source": [
    "## DQN"
   ]
  },
  {
   "cell_type": "code",
   "execution_count": 99,
   "metadata": {},
   "outputs": [],
   "source": [
    "import numpy as np\n",
    "import pandas as pd\n",
    "import tensorflow as tf\n",
    "\n",
    "np.random.seed(1)\n",
    "tf.set_random_seed(1)\n",
    "\n",
    "\n",
    "class DeepQNetwork(RLModel):\n",
    "    def __init__(self, env, e_greedy_increment=None):\n",
    "        RLModel.__init__(self, env)\n",
    "        self.n_actions = env.n_actions\n",
    "        self.n_features = 1\n",
    "        self.lr = 0.0001\n",
    "        self.gamma = 0.9\n",
    "        self.epsilon_max = 0.9\n",
    "        self.replace_target_iter = 150\n",
    "        self.memory_size = 2000\n",
    "        self.batch_size = 32\n",
    "        self.epsilon_increment = e_greedy_increment\n",
    "        self.epsilon = 0 if e_greedy_increment is not None else self.epsilon_max\n",
    "\n",
    "        # total learning step\n",
    "        self.learn_step_counter = 0\n",
    "\n",
    "        # initialize zero memory [s, a, r, s_]\n",
    "        self.memory = np.zeros((self.memory_size, self.n_features * 2 + 2))\n",
    "\n",
    "        # consist of [target_net, evaluate_net]\n",
    "        self._build_net()\n",
    "        t_params = tf.get_collection('target_net_params')\n",
    "        e_params = tf.get_collection('eval_net_params')\n",
    "        self.replace_target_op = [tf.assign(t, e) for t, e in zip(t_params, e_params)]\n",
    "\n",
    "        self.sess = tf.Session()\n",
    "\n",
    "        self.sess.run(tf.global_variables_initializer())\n",
    "        self.cost_his = []\n",
    "\n",
    "    def _build_net(self):\n",
    "        # ------------------ build evaluate_net ------------------\n",
    "        self.s = tf.placeholder(tf.float32, [None,1], name='s')  # input\n",
    "        self.q_target = tf.placeholder(tf.float32, [None, self.n_actions], name='Q_target')  # for calculating loss\n",
    "        with tf.variable_scope('eval_net'):\n",
    "            # c_names(collections_names) are the collections to store variables\n",
    "            c_names, n_l1, w_initializer, b_initializer = \\\n",
    "                ['eval_net_params', tf.GraphKeys.GLOBAL_VARIABLES], 10, \\\n",
    "                tf.random_normal_initializer(0., 0.3), tf.constant_initializer(0.1)  # config of layers\n",
    "\n",
    "            # first layer. collections is used later when assign to target net\n",
    "            with tf.variable_scope('l1'):\n",
    "                w1 = tf.get_variable('w1', [1,n_l1], initializer=w_initializer, collections=c_names)\n",
    "                b1 = tf.get_variable('b1', [1,n_l1], initializer=b_initializer, collections=c_names)\n",
    "                l1 = tf.nn.relu(self.s* w1 + b1)\n",
    "\n",
    "            # second layer. collections is used later when assign to target net\n",
    "            with tf.variable_scope('l2'):\n",
    "                w2 = tf.get_variable('w2', [n_l1, self.n_actions], initializer=w_initializer, collections=c_names)\n",
    "                b2 = tf.get_variable('b2', [1, self.n_actions], initializer=b_initializer, collections=c_names)\n",
    "                self.q_eval = tf.matmul(l1, w2) + b2\n",
    "\n",
    "        with tf.variable_scope('loss'):\n",
    "            self.loss = tf.reduce_mean(tf.squared_difference(self.q_target, self.q_eval))\n",
    "        with tf.variable_scope('train'):\n",
    "            self._train_op = tf.train.RMSPropOptimizer(self.lr).minimize(self.loss)\n",
    "\n",
    "        # ------------------ build target_net ------------------\n",
    "        self.s_ = tf.placeholder(tf.float32, [None,1], name='s_')    # input\n",
    "        with tf.variable_scope('target_net'):\n",
    "            # c_names(collections_names) are the collections to store variables\n",
    "            c_names = ['target_net_params', tf.GraphKeys.GLOBAL_VARIABLES]\n",
    "\n",
    "            # first layer. collections is used later when assign to target net\n",
    "            with tf.variable_scope('l1'):\n",
    "                w1 = tf.get_variable('w1', [1,n_l1], initializer=w_initializer, collections=c_names)\n",
    "                b1 = tf.get_variable('b1', [1,n_l1], initializer=b_initializer, collections=c_names)\n",
    "                l1 = tf.nn.relu(self.s_ * w1 + b1)\n",
    "\n",
    "            # second layer. collections is used later when assign to target net\n",
    "            with tf.variable_scope('l2'):\n",
    "                w2 = tf.get_variable('w2', [n_l1, self.n_actions], initializer=w_initializer, collections=c_names)\n",
    "                b2 = tf.get_variable('b2', [1,self.n_actions], initializer=b_initializer, collections=c_names)\n",
    "                self.q_next = tf.matmul(l1, w2) + b2\n",
    "\n",
    "    def store_transition(self, s, a, r, s_):\n",
    "        if not hasattr(self, 'memory_counter'):\n",
    "            self.memory_counter = 0\n",
    "\n",
    "        # replace the old memory with new memory\n",
    "        index = self.memory_counter % self.memory_size\n",
    "        self.memory[index, :] = [s, a, r, s_]\n",
    "\n",
    "        self.memory_counter += 1\n",
    "\n",
    "    def choose_action(self, observation):\n",
    "        # to have batch dimension when feed into tf placeholder\n",
    "        observation = observation[np.newaxis]\n",
    "        observation = np.array(observation).reshape(-1,1)\n",
    "\n",
    "        if np.random.uniform() < self.epsilon:\n",
    "            # forward feed the observation and get q value for every actions\n",
    "            actions_value = self.sess.run(self.q_eval, feed_dict={self.s: observation})\n",
    "            action = np.argmax(actions_value)\n",
    "        else:\n",
    "            action = np.random.randint(0, self.n_actions)\n",
    "        return action\n",
    "\n",
    "    def learn(self):\n",
    "        # check to replace target parameters\n",
    "        if self.learn_step_counter % self.replace_target_iter == 0:\n",
    "            self.sess.run(self.replace_target_op)\n",
    "\n",
    "        # sample batch memory from all memory\n",
    "        if self.memory_counter > self.memory_size:\n",
    "            sample_index = np.random.choice(self.memory_size, size=self.batch_size)\n",
    "        else:\n",
    "            sample_index = np.random.choice(self.memory_counter, size=self.batch_size)\n",
    "        batch_memory = self.memory[sample_index, :]\n",
    "\n",
    "        q_next, q_eval = self.sess.run(\n",
    "            [self.q_next, self.q_eval],\n",
    "            feed_dict={\n",
    "                self.s_: batch_memory[:, 3].reshape(-1,1),  # fixed params\n",
    "                self.s: batch_memory[:, 0].reshape(-1,1),  # newest params\n",
    "            })\n",
    "\n",
    "        # change q_target w.r.t q_eval's action\n",
    "        q_target = q_eval.copy()\n",
    "\n",
    "        batch_index = np.arange(self.batch_size, dtype=np.int32)\n",
    "        eval_act_index = batch_memory[:, self.n_features].astype(int)\n",
    "        reward = batch_memory[:, 2]\n",
    "\n",
    "        q_target[batch_index, eval_act_index] = reward + self.gamma * np.max(q_next, axis=1)\n",
    "\n",
    "        # train eval network\n",
    "        _, self.cost = self.sess.run([self._train_op, self.loss],\n",
    "                                     feed_dict={self.s: batch_memory[:, 0].reshape(-1,1),\n",
    "                                                self.q_target: q_target})\n",
    "        self.cost_his.append(self.cost)\n",
    "\n",
    "        # increasing epsilon\n",
    "        self.epsilon = self.epsilon + self.epsilon_increment if self.epsilon < self.epsilon_max else self.epsilon_max\n",
    "        self.learn_step_counter += 1\n",
    "\n",
    "    def plot_cost(self):\n",
    "        import matplotlib.pyplot as plt\n",
    "        plt.plot(np.arange(len(self.cost_his)), self.cost_his)\n",
    "        plt.ylabel('Cost')\n",
    "        plt.xlabel('training steps')\n",
    "        plt.show()\n",
    "\n",
    "    def compute_policy(self):\n",
    "        q = np.zeros((RL.env.n_states,RL.env.n_actions))\n",
    "        for s in range(RL.env.n_states):\n",
    "            observation = np.array([s]).reshape(-1,1)\n",
    "            actions = RL.sess.run(RL.q_eval, feed_dict={RL.s: observation})\n",
    "            q[s,np.argmax(actions)] = 1\n",
    "        self.policy = Policy(q)\n",
    "    \n",
    "    def compute_q(self):\n",
    "        q = np.zeros((RL.env.n_states,RL.env.n_actions))\n",
    "        for s in range(RL.env.n_states):\n",
    "            observation = np.array([s]).reshape(-1,1)\n",
    "            actions = RL.sess.run(RL.q_eval, feed_dict={RL.s: observation})\n",
    "            q[s,:] = actions\n",
    "        self.q = q "
   ]
  },
  {
   "cell_type": "code",
   "execution_count": 100,
   "metadata": {},
   "outputs": [
    {
     "name": "stdout",
     "output_type": "stream",
     "text": [
      "Computational time :  138.18364262580872\n"
     ]
    },
    {
     "data": {
      "image/png": "[encoded data removed]",
      "text/plain": [
       "<Figure size 432x288 with 1 Axes>"
      ]
     },
     "metadata": {
      "needs_background": "light"
     },
     "output_type": "display_data"
    },
    {
     "data": {
      "image/png": "[encoded data removed]",
      "text/plain": [
       "<Figure size 432x288 with 1 Axes>"
      ]
     },
     "metadata": {
      "needs_background": "light"
     },
     "output_type": "display_data"
    }
   ],
   "source": [
    "t0 = time.time()\n",
    "tf.reset_default_graph() \n",
    "RL = DeepQNetwork(env)\n",
    "step = 0\n",
    "for episode in range(5000):\n",
    "        # initial observation\n",
    "    state = env.reset()\n",
    "    ep_r = 0\n",
    "    \n",
    "    step_ini = step\n",
    "    while step - step_ini <= 100 :\n",
    "        # RL choose action based on observation\n",
    "        action = RL.choose_action(state)\n",
    "\n",
    "        # RL take action and get next observation and reward\n",
    "        next_state, reward, done = env.step(state,action)\n",
    "        ep_r += reward\n",
    "        RL.store_transition(state, action, reward, next_state)\n",
    "\n",
    "        if (step > 200) and (step % 5 == 0):\n",
    "            RL.learn()\n",
    "\n",
    "        # swap observation\n",
    "        state = next_state\n",
    "\n",
    "        # break while loop when end of this episode\n",
    "        if done or step - step_ini == 100 :\n",
    "            if len(RL.moving_rewards) == 0:  # record running episode reward\n",
    "                RL.moving_rewards.append(ep_r)\n",
    "            else:\n",
    "                RL.moving_rewards.append(0.9 * RL.moving_rewards[-1] + 0.1 * ep_r)\n",
    "            RL.episode_count += 1\n",
    "            break\n",
    "        step += 1\n",
    "\n",
    "print(\"Computational time : \",time.time()-t0)\n",
    "        \n",
    "RL.plot_avg_moving_rwd('DQN_avg_moving_rwd')\n",
    "\n",
    "RL.plot_cost()"
   ]
  },
  {
   "cell_type": "code",
   "execution_count": 105,
   "metadata": {},
   "outputs": [
    {
     "name": "stdout",
     "output_type": "stream",
     "text": [
      "Mean of the reward along the last  1000  iterations : -2.1923205695001995\n"
     ]
    }
   ],
   "source": [
    "RL.compute_policy()\n",
    "RL.render_policy()\n",
    "\n",
    "RL.compute_q()\n",
    "render_q(RL.env,RL.q)\n",
    "\n",
    "RL.mean_reward(1000)"
   ]
  },
  {
   "cell_type": "markdown",
   "metadata": {},
   "source": [
    "## REPS algorithm\n",
    "### Pseudocode implementation in docs file"
   ]
  },
  {
   "cell_type": "code",
   "execution_count": 106,
   "metadata": {},
   "outputs": [],
   "source": [
    "class REPS(RLModel):\n",
    "    def __init__(self, env, p=3, N=100,K=100,eta=0.1):\n",
    "        RLModel.__init__(self, env)\n",
    "        self.p = p\n",
    "        self.N = N\n",
    "        self.K = K\n",
    "        self.eta = eta\n",
    "    \n",
    "    def compute_new_policy(self, eta, policy, phi, theta, samples):\n",
    "        log_new_pi = np.zeros((policy.n_states,policy.n_actions))\n",
    "        A = np.zeros((policy.n_states,policy.n_actions))\n",
    "        counter = np.zeros((policy.n_states,policy.n_actions))\n",
    "        nb_samples = 0\n",
    "        for i in range(len(samples)):\n",
    "            states = samples[i]['states']\n",
    "            actions = samples[i]['actions']\n",
    "            rewards = samples[i]['rewards']\n",
    "            next_states = samples[i]['next_states']\n",
    "\n",
    "            for j in range(len(states)):\n",
    "                A[states[j],actions[j]] += rewards[j] + np.dot(phi[next_states[j],:],theta) - np.dot(phi[states[j],:],theta)\n",
    "                counter[states[j],actions[j]] += 1\n",
    "                nb_samples += 1\n",
    "        for s in range(env.n_states):\n",
    "            for a in range(env.n_actions):\n",
    "                if counter[s,a]!=0:\n",
    "                    A[s,a] /= counter[s,a]\n",
    "        for s in range(policy.n_states):\n",
    "            for a in range(policy.n_actions):\n",
    "                argexpo = np.zeros(policy.n_actions)\n",
    "                if policy.pi[s,a] == 0:\n",
    "                    log_new_pi[s,a] = -float('inf')\n",
    "                else:\n",
    "                    for b in range(policy.n_actions):\n",
    "                        argexpo[b] = np.log(policy.pi[s,b]+0.0001) + eta * A[s,b]\n",
    "                    maxi = np.max(argexpo)\n",
    "                    log_new_pi[s,a] = argexpo[a] - np.log(np.sum(np.exp(argexpo - maxi))) - maxi\n",
    "        return(Policy(np.exp(log_new_pi)))\n",
    "\n",
    "\n",
    "    def g(self, theta, eta, phi, samples):\n",
    "        res = 0\n",
    "        A = np.zeros((env.n_states,env.n_actions))\n",
    "        counter = np.zeros((env.n_states,env.n_actions))\n",
    "        nb_samples = 0\n",
    "        for i in range(len(samples)):\n",
    "            states = samples[i]['states']\n",
    "            actions = samples[i]['actions']\n",
    "            rewards = samples[i]['rewards']\n",
    "            next_states = samples[i]['next_states']\n",
    "\n",
    "            for j in range(len(states)):\n",
    "                A[states[j],actions[j]] += rewards[j] + np.dot(phi[next_states[j],:],theta) - np.dot(phi[states[j],:],theta)\n",
    "                counter[states[j],actions[j]] += 1\n",
    "                nb_samples += 1\n",
    "        for s in range(env.n_states):\n",
    "            for a in range(env.n_actions):\n",
    "                if counter[s,a]!=0:\n",
    "                    A[s,a] /= counter[s,a]\n",
    "        for i in range(len(samples)):\n",
    "            states = samples[i]['states']\n",
    "            actions = samples[i]['actions']\n",
    "            for j in range(len(states)):\n",
    "                res += np.exp(eta*A[states[j],actions[j]])\n",
    "        res /= nb_samples\n",
    "        return (np.log(res)/eta)\n",
    "\n",
    "    def Dg(self, theta, eta, phi, samples):\n",
    "        n_states,p = np.shape(phi)\n",
    "        numerator = 0\n",
    "        denominator = 0\n",
    "        A = np.zeros((env.n_states,env.n_actions))\n",
    "        D = np.zeros((env.n_states,env.n_actions,p))\n",
    "        counter = np.zeros((env.n_states,env.n_actions))\n",
    "        for i in range(len(samples)):\n",
    "            states = samples[i]['states']\n",
    "            actions = samples[i]['actions']\n",
    "            rewards = samples[i]['rewards']\n",
    "            next_states = samples[i]['next_states']\n",
    "\n",
    "            for j in range(len(states)):\n",
    "                A[states[j],actions[j]] += rewards[j] + np.dot(phi[next_states[j],:],theta) - np.dot(phi[states[j],:],theta)\n",
    "                D[states[j],actions[j],:] += phi[next_states[j],:] - phi[states[j],:]\n",
    "                counter[states[j],actions[j]] += 1\n",
    "        for s in range(env.n_states):\n",
    "            for a in range(env.n_actions):\n",
    "                if counter[s,a]!=0:\n",
    "                    A[s,a] /= counter[s,a]\n",
    "        for s in range(env.n_states):\n",
    "            for a in range(env.n_actions):\n",
    "                if counter[s,a]!=0:\n",
    "                    D[s,a,:] /= counter[s,a]\n",
    "        for i in range(len(samples)):\n",
    "            states = samples[i]['states']\n",
    "            actions = samples[i]['actions']\n",
    "            for j in range(len(states)):\n",
    "                numerator += np.exp(eta*A[states[j],actions[j]]) * D[states[j],actions[j]]\n",
    "                denominator += np.exp(eta*A[states[j],actions[j]])\n",
    "        return ((1/eta) * numerator / denominator)\n",
    "\n",
    "    def compute_phi(self,p):\n",
    "        phi = np.zeros((self.env.n_states,p))\n",
    "        for k in range(self.env.n_states):\n",
    "            phi[k,:] = [k,k**2,np.log(k+1)]\n",
    "        return phi\n",
    "\n",
    "    def policy_update(self):\n",
    "        \"\"\"Relative Entropy Policy Search using Mirror Descent\"\"\"\n",
    "        p = 3    \n",
    "        # initialization of the distribution\n",
    "        pi = self.initialize_pi()\n",
    "        policy = Policy(pi)\n",
    "        #Tmax =  -100*np.log(10e-6)/(1-env.gamma)\n",
    "        T = 100\n",
    "        theta = [0 for i in range(p)]\n",
    "        phi = self.compute_phi(p)\n",
    "        \n",
    "        for k in tqdm(range(self.K), desc=\"Iterating REPS algorithm...\"):\n",
    "            ##### SAMPLING\n",
    "            samples = self.collect_episodes(policy=policy,horizon=T,n_episodes=self.N)\n",
    "\n",
    "            #### OPTIMIZE\n",
    "            theta = opt.fmin_bfgs(self.g,x0=theta,fprime=self.Dg,args=(self.eta,phi,samples), disp=0)\n",
    "\n",
    "            #### COMPUTE THE NEW POLICY\n",
    "            policy = self.compute_new_policy(self.eta,policy,phi,theta,samples) \n",
    "            \n",
    "        self.policy = policy\n",
    "        self.theta = theta\n",
    "        self.phi = phi\n",
    "        \n",
    "    "
   ]
  },
  {
   "cell_type": "code",
   "execution_count": 107,
   "metadata": {},
   "outputs": [
    {
     "name": "stderr",
     "output_type": "stream",
     "text": [
      "Iterating REPS algorithm...: 100%|███████████████████████████████████████████████████| 100/100 [21:30<00:00, 12.93s/it]\n"
     ]
    }
   ],
   "source": [
    "REPS_model = REPS(env)\n",
    "REPS_model.policy_update()"
   ]
  },
  {
   "cell_type": "code",
   "execution_count": 16,
   "metadata": {},
   "outputs": [],
   "source": [
    "REPS_model.render_policy()"
   ]
  },
  {
   "cell_type": "code",
   "execution_count": 108,
   "metadata": {},
   "outputs": [
    {
     "data": {
      "image/png": "[encoded data removed]",
      "text/plain": [
       "<Figure size 432x288 with 1 Axes>"
      ]
     },
     "metadata": {
      "needs_background": "light"
     },
     "output_type": "display_data"
    }
   ],
   "source": [
    "REPS_model.plot_avg_moving_rwd('REPS_avg_moving_rwd')"
   ]
  },
  {
   "cell_type": "code",
   "execution_count": 109,
   "metadata": {},
   "outputs": [
    {
     "name": "stdout",
     "output_type": "stream",
     "text": [
      "Mean of the reward along the last  1000  iterations : 0.7197452660077356\n"
     ]
    }
   ],
   "source": [
    "REPS_model.mean_reward(1000)"
   ]
  },
  {
   "cell_type": "markdown",
   "metadata": {},
   "source": [
    "## DPP-RL Algorithm \n",
    "### based on the paper \"Dynamic Policy Programming\" in docs file"
   ]
  },
  {
   "cell_type": "code",
   "execution_count": 134,
   "metadata": {},
   "outputs": [],
   "source": [
    "class DPP(RLModel):\n",
    "    \n",
    "    def __init__(self, env, K=50, N=100,  eta=0.1):\n",
    "        RLModel.__init__(self, env)\n",
    "        self.K = K\n",
    "        self.eta = eta\n",
    "        self.N = N\n",
    "\n",
    "    def update_pi(self, pi, phi):\n",
    "        n_states,n_actions = np.shape(pi)\n",
    "        pi = np.zeros((n_states,n_actions))\n",
    "        for s in range(n_states):\n",
    "            pi[s,:] = np.exp(self.eta * phi[s,:])\n",
    "            pi[s,:] /= np.sum(pi[s,:])*np.ones(n_actions)\n",
    "        return(pi)\n",
    "\n",
    "    def compute_Mphi(self, phi):\n",
    "        n_states,n_actions = np.shape(phi)\n",
    "        Mphi =  np.zeros(n_states)\n",
    "        for s in range(n_states):\n",
    "            numerator = 0\n",
    "            denominator = 0\n",
    "            for a in range(n_actions):\n",
    "                numerator += np.exp(self.eta*phi[s,a]) * phi[s,a]\n",
    "                denominator += np.exp(self.eta*phi[s,a])\n",
    "            Mphi[s] = numerator / denominator\n",
    "        return(Mphi)\n",
    "\n",
    "    def update_phi(self, pi, phi, samples):\n",
    "        n_states,n_actions = np.shape(pi)\n",
    "        Mphi = self.compute_Mphi(phi)\n",
    "       \n",
    "        A = np.zeros((n_states,n_actions))\n",
    "        counter = np.zeros((n_states,n_actions))\n",
    "        for i in range(len(samples)):\n",
    "            states = samples[i]['states']\n",
    "            actions = samples[i]['actions']\n",
    "            rewards = samples[i]['rewards']\n",
    "            next_states = samples[i]['next_states']\n",
    "            for j in range(len(states)-1):\n",
    "                A[states[j],actions[j]] += rewards[j] + self.env.gamma * Mphi[next_states[j]] - Mphi[states[j]]\n",
    "                counter[states[j],actions[j]] += 1\n",
    "\n",
    "        for s in range(n_states):\n",
    "            for a in range(n_actions):\n",
    "                if counter[s,a]!=0:\n",
    "                    A[s,a] /= counter[s,a]\n",
    "                    phi[s,a] += A[s,a] \n",
    "        return phi\n",
    "\n",
    "    def policy_update(self):\n",
    "        pi = self.initialize_pi()\n",
    "        phi = np.ones((self.env.n_states, self.env.n_actions))\n",
    "        T = 100\n",
    "        for k in tqdm(range(self.K), desc=\"Iterating DPP algorithm...\"):\n",
    "            ##### SAMPLING\n",
    "            samples = self.collect_episodes(policy=Policy(pi),horizon=T,n_episodes=self.N)  \n",
    "            \n",
    "            ##### UPDATE PHI\n",
    "            phi = self.update_phi(pi, phi, samples)\n",
    "            \n",
    "            ##### UPDATE PI\n",
    "            pi = self.update_pi(pi, phi)\n",
    "            \n",
    "        self.policy = Policy(pi)\n",
    "        self.phi = phi\n",
    "        "
   ]
  },
  {
   "cell_type": "code",
   "execution_count": 135,
   "metadata": {},
   "outputs": [
    {
     "name": "stderr",
     "output_type": "stream",
     "text": [
      "Iterating DPP algorithm...: 100%|██████████████████████████████████████████████████████| 50/50 [00:02<00:00, 21.26it/s]\n"
     ]
    },
    {
     "name": "stdout",
     "output_type": "stream",
     "text": [
      "computational time :  2.3513853549957275\n"
     ]
    }
   ],
   "source": [
    "t0 = time.time()\n",
    "DPP_model = DPP(env)\n",
    "DPP_model.policy_update()\n",
    "print('computational time : ',time.time()-t0)"
   ]
  },
  {
   "cell_type": "code",
   "execution_count": 131,
   "metadata": {},
   "outputs": [],
   "source": [
    "DPP_model.render_policy()"
   ]
  },
  {
   "cell_type": "code",
   "execution_count": 132,
   "metadata": {},
   "outputs": [
    {
     "data": {
      "image/png": "[encoded data removed]",
      "text/plain": [
       "<Figure size 432x288 with 1 Axes>"
      ]
     },
     "metadata": {
      "needs_background": "light"
     },
     "output_type": "display_data"
    }
   ],
   "source": [
    "DPP_model.plot_avg_moving_rwd('DPP_avg_moving_rwd')"
   ]
  },
  {
   "cell_type": "code",
   "execution_count": 133,
   "metadata": {},
   "outputs": [
    {
     "name": "stdout",
     "output_type": "stream",
     "text": [
      "Mean of the reward along the last  1000  iterations : 0.07642714835319037\n"
     ]
    }
   ],
   "source": [
    "DPP_model.mean_reward(1000)"
   ]
  },
  {
   "cell_type": "markdown",
   "metadata": {},
   "source": [
    "# TRPO"
   ]
  },
  {
   "cell_type": "code",
   "execution_count": 115,
   "metadata": {},
   "outputs": [],
   "source": [
    "class TRPO(RLModel):\n",
    "    def __init__(self, env, K=200, N = 100, eta=0.1):\n",
    "        RLModel.__init__(self, env)\n",
    "        self.K = K\n",
    "        self.N = N\n",
    "        self.eta = eta\n",
    "\n",
    "    def compute_Q(self, samples, Q):\n",
    "        n_states,n_actions = np.shape(Q)\n",
    "        counter = np.zeros((n_states,n_actions))\n",
    "        for i in range(len(samples)):\n",
    "            states = samples[i]['states']\n",
    "            actions = samples[i]['actions']\n",
    "            rewards = samples[i]['rewards']\n",
    "            next_states = samples[i]['next_states']\n",
    "\n",
    "            cumulated_rwd = 0\n",
    "            for j in range(len(states)):\n",
    "                t = len(states) -1 - j\n",
    "                cumulated_rwd = self.env.gamma * cumulated_rwd + rewards[t]\n",
    "                Q[states[t],actions[t]] += cumulated_rwd\n",
    "                counter[states[t],actions[t]] += 1\n",
    "\n",
    "        for s in range(n_states):\n",
    "            for a in range(n_actions):\n",
    "                if counter[s,a]!=0:\n",
    "                    Q[s,a] /= counter[s,a]\n",
    "        return Q\n",
    "\n",
    "\n",
    "    def compute_value_function(self, Q, pi):\n",
    "        n_states,n_actions = np.shape(Q)\n",
    "        V = np.zeros(n_states)\n",
    "        for s in range(n_states):\n",
    "            for a in range(n_actions):\n",
    "                V[s] += pi[s,a] * Q[s,a]\n",
    "        return V\n",
    "\n",
    "    def compute_advantage_function(self, pi, V, samples):\n",
    "        n_states, n_actions = np.shape(pi)\n",
    "        A = np.zeros((n_states,n_actions))\n",
    "        counter = np.zeros((n_states,n_actions))\n",
    "\n",
    "        for i in range(len(samples)):\n",
    "            states = samples[i]['states']\n",
    "            actions = samples[i]['actions']\n",
    "            rewards = samples[i]['rewards']\n",
    "            next_states = samples[i]['next_states']\n",
    "\n",
    "            for j in range(len(states)):\n",
    "                A[states[j],actions[j]] += rewards[j] + V[next_states[j]] - V[states[j]]\n",
    "                counter[states[j],actions[j]] += 1\n",
    "\n",
    "        for s in range(n_states):\n",
    "            for a in range(n_actions):\n",
    "                if counter[s,a]!=0:\n",
    "                    A[s,a] /= counter[s,a]\n",
    "        return A\n",
    "\n",
    "    def update_pi(self, pi, A):\n",
    "        n_states,n_actions = np.shape(pi)\n",
    "        for s in range(n_states):\n",
    "            for a in range(n_actions):\n",
    "                pi[s,a] *= np.exp(self.eta * A[s,a]) \n",
    "            pi[s,:] /= np.sum(pi[s,:])\n",
    "        return(pi)\n",
    "\n",
    "\n",
    "    def policy_update(self):\n",
    "        pi = self.initialize_pi()\n",
    "        A = np.ones((env.n_states,env.n_actions))\n",
    "        Q = np.ones((env.n_states,env.n_actions))\n",
    "        V = np.ones(env.n_states)\n",
    "        T = 100\n",
    "        for k in tqdm(range(self.K), desc=\"Iterating TRPO algorithm...\"):\n",
    "            policy = Policy(pi)\n",
    "            ##### SAMPLING\n",
    "            samples = self.collect_episodes(policy=policy,horizon=T,n_episodes=self.N)  \n",
    "\n",
    "            #### COMPUTE Q FUNCTION\n",
    "            Q = self.compute_Q(samples,Q)\n",
    "\n",
    "            #### COMPUTE VALUE FUNCTION\n",
    "            V = self.compute_value_function(Q,pi)\n",
    "\n",
    "            #### COMPUTE ADVANTAGE FUNCTION\n",
    "            A = self.compute_advantage_function(pi,V,samples)\n",
    "\n",
    "            #### COMPUTE THE NEW POLICY\n",
    "            pi = self.update_pi(pi, A)  \n",
    "            \n",
    "        self.policy = Policy(pi)\n",
    "        self.A = A\n",
    "        self.V = V\n",
    "        self.Q = Q\n",
    "        "
   ]
  },
  {
   "cell_type": "code",
   "execution_count": 116,
   "metadata": {},
   "outputs": [
    {
     "name": "stderr",
     "output_type": "stream",
     "text": [
      "Iterating TRPO algorithm...: 100%|█████████████████████████████████████████████████████| 50/50 [00:01<00:00, 33.34it/s]\n"
     ]
    },
    {
     "name": "stdout",
     "output_type": "stream",
     "text": [
      "computational time :  1.5154893398284912\n"
     ]
    }
   ],
   "source": [
    "t0 = time.time()\n",
    "TRPO_model = TRPO(env)\n",
    "TRPO_model.policy_update()\n",
    "print('computational time : ',time.time()-t0)"
   ]
  },
  {
   "cell_type": "code",
   "execution_count": 64,
   "metadata": {},
   "outputs": [],
   "source": [
    "TRPO_model.render_policy()"
   ]
  },
  {
   "cell_type": "code",
   "execution_count": 94,
   "metadata": {},
   "outputs": [
    {
     "data": {
      "image/png": "[encoded data removed]",
      "text/plain": [
       "<Figure size 432x288 with 1 Axes>"
      ]
     },
     "metadata": {
      "needs_background": "light"
     },
     "output_type": "display_data"
    }
   ],
   "source": [
    "TRPO_model.plot_avg_moving_rwd('TRPO_avg_moving_rwd')"
   ]
  },
  {
   "cell_type": "code",
   "execution_count": 113,
   "metadata": {},
   "outputs": [
    {
     "name": "stdout",
     "output_type": "stream",
     "text": [
      "Mean of the reward along the last  1000  iterations : 0.8637335837598121\n"
     ]
    }
   ],
   "source": [
    "TRPO_model.mean_reward(1000)"
   ]
  },
  {
   "cell_type": "markdown",
   "metadata": {},
   "source": [
    "# A3C"
   ]
  },
  {
   "cell_type": "code",
   "execution_count": 79,
   "metadata": {},
   "outputs": [],
   "source": [
    "class A3C(TRPO):\n",
    "    def __init__(self, env, K=320, N = 100, eta=0.1):\n",
    "        TRPO.__init__(self, env, K, N, eta)\n",
    "        self.K = K\n",
    "        self.N = N\n",
    "        self.eta_init = eta\n",
    "\n",
    "    def update_pi(self, pi, A):\n",
    "        n_states,n_actions = np.shape(pi)\n",
    "        for s in range(n_states):\n",
    "            for a in range(n_actions):\n",
    "                pi[s,a] = np.exp(self.eta * A[s,a]) \n",
    "            pi[s,:] /= np.sum(pi[s,:])\n",
    "        return(pi)\n",
    "    \n",
    "    def update_eta(self):\n",
    "        self.eta += self.eta_init\n",
    "\n",
    "    def policy_update(self):\n",
    "        pi = self.initialize_pi()\n",
    "        A = np.ones((env.n_states,env.n_actions))\n",
    "        Q = np.ones((env.n_states,env.n_actions))\n",
    "        V = np.ones(env.n_states)\n",
    "        T = 100\n",
    "        for k in tqdm(range(self.K), desc=\"Iterating A3C algorithm...\"):\n",
    "            ##### UPDATING ETA\n",
    "            self.update_eta()\n",
    "            \n",
    "            ##### CONSTRUCTING POLICY\n",
    "            policy = Policy(pi)\n",
    "            \n",
    "            ##### SAMPLING\n",
    "            samples = self.collect_episodes(policy=policy,horizon=T,n_episodes=self.N)  \n",
    "\n",
    "            #### COMPUTE Q FUNCTION\n",
    "            Q = self.compute_Q(samples,Q)\n",
    "\n",
    "            #### COMPUTE VALUE FUNCTION\n",
    "            V = self.compute_value_function(Q,pi)\n",
    "\n",
    "            #### COMPUTE ADVANTAGE FUNCTION\n",
    "            A = self.compute_advantage_function(pi,V,samples)\n",
    "\n",
    "            #### COMPUTE THE NEW POLICY\n",
    "            pi = self.update_pi(pi, A)  \n",
    "            \n",
    "        self.policy = Policy(pi)\n",
    "        self.A = A\n",
    "        self.V = V\n",
    "        self.Q = Q\n",
    "        "
   ]
  },
  {
   "cell_type": "code",
   "execution_count": 80,
   "metadata": {},
   "outputs": [
    {
     "name": "stderr",
     "output_type": "stream",
     "text": [
      "Iterating A3C algorithm...: 100%|████████████████████████████████████████████████████| 320/320 [00:14<00:00, 21.99it/s]\n"
     ]
    }
   ],
   "source": [
    "A3C_model = A3C(env)\n",
    "A3C_model.policy_update()"
   ]
  },
  {
   "cell_type": "code",
   "execution_count": 82,
   "metadata": {},
   "outputs": [],
   "source": [
    "A3C_model.render_policy()"
   ]
  },
  {
   "cell_type": "code",
   "execution_count": 81,
   "metadata": {},
   "outputs": [
    {
     "data": {
      "image/png": "[encoded data removed]",
      "text/plain": [
       "<Figure size 432x288 with 1 Axes>"
      ]
     },
     "metadata": {
      "needs_background": "light"
     },
     "output_type": "display_data"
    }
   ],
   "source": [
    "A3C_model.plot_avg_moving_rwd('A3C_avg_moving_rwd')"
   ]
  },
  {
   "cell_type": "code",
   "execution_count": null,
   "metadata": {},
   "outputs": [],
   "source": []
  },
  {
   "cell_type": "code",
   "execution_count": null,
   "metadata": {},
   "outputs": [],
   "source": []
  }
 ],
 "metadata": {
  "kernelspec": {
   "display_name": "Python 3",
   "language": "python",
   "name": "python3"
  },
  "language_info": {
   "codemirror_mode": {
    "name": "ipython",
    "version": 3
   },
   "file_extension": ".py",
   "mimetype": "text/x-python",
   "name": "python",
   "nbconvert_exporter": "python",
   "pygments_lexer": "ipython3",
   "version": "3.6.5"
  }
 },
 "nbformat": 4,
 "nbformat_minor": 2
}
