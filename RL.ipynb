{
 "cells": [
  {
   "cell_type": "markdown",
   "metadata": {},
   "source": [
    "# A Unified View of Entropy-Regularized Markov Decision Processes:\n",
    "## Article Review\n",
    "\n"
   ]
  },
  {
   "cell_type": "code",
   "execution_count": 1,
   "metadata": {
    "collapsed": false
   },
   "outputs": [],
   "source": [
    "import numpy as np\n",
    "import matplotlib.pyplot as plt\n",
    "from tqdm import tqdm\n",
    "\n",
    "from renderer import *\n",
    "from gridworld import *\n",
    "\n",
    "import scipy\n",
    "import scipy.optimize as opt\n",
    "import pdb"
   ]
  },
  {
   "cell_type": "code",
   "execution_count": 2,
   "metadata": {
    "collapsed": false
   },
   "outputs": [],
   "source": [
    "grid1 = [\n",
    "    ['', '', '', 1],\n",
    "    ['', 'x', '', -1],\n",
    "    ['', '', '', '']\n",
    "]\n",
    "\n",
    "env = GridWorld(gamma=0.95, grid=grid1)"
   ]
  },
  {
   "cell_type": "code",
   "execution_count": 3,
   "metadata": {
    "collapsed": true
   },
   "outputs": [],
   "source": [
    "class Policy(object):\n",
    "    def __init__(self,pi):\n",
    "        n_states,n_actions = np.shape(pi)\n",
    "        self.n_actions = n_actions\n",
    "        self.n_states = n_states\n",
    "        self.pi = pi\n",
    "    def draw_action(self,state):\n",
    "        u = np.random.rand()\n",
    "        probas = np.cumsum(self.pi[state,:])\n",
    "        a = 0\n",
    "        while (a < self.n_actions-1 and (u > probas[a] or self.pi[state,a]==0)):\n",
    "            a += 1\n",
    "        return a"
   ]
  },
  {
   "cell_type": "code",
   "execution_count": 4,
   "metadata": {
    "collapsed": true
   },
   "outputs": [],
   "source": [
    "class RLModel:\n",
    "    def __init__(self, env):\n",
    "        self.env = env\n",
    "        \n",
    "    def initialize_pi(self):\n",
    "        pi = np.zeros((self.env.n_states,self.env.n_actions))\n",
    "        for s in range(self.env.n_states):\n",
    "            actions = self.env.state_actions[s]\n",
    "            for a in actions:\n",
    "                pi[s,a] = 1./len(actions)\n",
    "        return pi\n",
    "    \n",
    "    def collect_episodes(self, policy=None, horizon=None, n_episodes=1, render=False):\n",
    "        paths = []\n",
    "\n",
    "        for _ in range(n_episodes):\n",
    "            observations = []\n",
    "            actions = []\n",
    "            rewards = []\n",
    "            next_states = []\n",
    "\n",
    "            state = self.env.reset()\n",
    "            for _ in range(horizon):\n",
    "                action = policy.draw_action(state)\n",
    "                next_state, reward, terminal = self.env.step(state,action)\n",
    "                if render:\n",
    "                    self.env.render()\n",
    "                observations.append(state)\n",
    "                actions.append(action)\n",
    "                rewards.append(reward)\n",
    "                next_states.append(next_state)\n",
    "                state = copy.copy(next_state)\n",
    "                if terminal:\n",
    "                    # Finish rollout if terminal state reached\n",
    "                    break\n",
    "                    # We need to compute the empirical return for each time step along the\n",
    "                    # trajectory\n",
    "            paths.append(dict(\n",
    "                states=np.array(observations),\n",
    "                actions=np.array(actions),\n",
    "                rewards=np.array(rewards),\n",
    "                next_states=np.array(next_states)\n",
    "            ))\n",
    "        return paths\n",
    "\n",
    "    \n",
    "    def render_policy(self):\n",
    "        render_policy(self.env,self.policy.pi)"
   ]
  },
  {
   "cell_type": "markdown",
   "metadata": {},
   "source": [
    "## REPS algorithm\n",
    "### Pseudocode implementation in docs file"
   ]
  },
  {
   "cell_type": "code",
   "execution_count": 21,
   "metadata": {
    "collapsed": false
   },
   "outputs": [],
   "source": [
    "class REPS(RLModel):\n",
    "    def __init__(self, env, p=3, N=100,K=50,eta=0.1):\n",
    "        RLModel.__init__(self, env)\n",
    "        self.p = p\n",
    "        self.N = N\n",
    "        self.K = K\n",
    "        self.eta = eta\n",
    "    \n",
    "    def compute_new_policy(self, eta, policy, phi, theta, samples):\n",
    "        log_new_pi = np.zeros((policy.n_states,policy.n_actions))\n",
    "        A = np.zeros((policy.n_states,policy.n_actions))\n",
    "        counter = np.zeros((policy.n_states,policy.n_actions))\n",
    "        nb_samples = 0\n",
    "        for i in range(len(samples)):\n",
    "            states = samples[i]['states']\n",
    "            actions = samples[i]['actions']\n",
    "            rewards = samples[i]['rewards']\n",
    "            next_states = samples[i]['next_states']\n",
    "\n",
    "            for j in range(len(states)):\n",
    "                A[states[j],actions[j]] += rewards[j] + np.dot(phi[next_states[j],:],theta) - np.dot(phi[states[j],:],theta)\n",
    "                counter[states[j],actions[j]] += 1\n",
    "                nb_samples += 1\n",
    "        for s in range(env.n_states):\n",
    "            for a in range(env.n_actions):\n",
    "                if counter[s,a]!=0:\n",
    "                    A[s,a] /= counter[s,a]\n",
    "        for s in range(policy.n_states):\n",
    "            for a in range(policy.n_actions):\n",
    "                argexpo = np.zeros(policy.n_actions)\n",
    "                if policy.pi[s,a] == 0:\n",
    "                    log_new_pi[s,a] = -float('inf')\n",
    "                else:\n",
    "                    for b in range(policy.n_actions):\n",
    "                        argexpo[b] = np.log(policy.pi[s,b]+0.0001) + eta * A[s,b]\n",
    "                    maxi = np.max(argexpo)\n",
    "                    log_new_pi[s,a] = argexpo[a] - np.log(np.sum(np.exp(argexpo - maxi))) - maxi\n",
    "        return(Policy(np.exp(log_new_pi)))\n",
    "\n",
    "\n",
    "    def g(self, theta, eta, phi, samples):\n",
    "        res = 0\n",
    "        A = np.zeros((env.n_states,env.n_actions))\n",
    "        counter = np.zeros((env.n_states,env.n_actions))\n",
    "        nb_samples = 0\n",
    "        for i in range(len(samples)):\n",
    "            states = samples[i]['states']\n",
    "            actions = samples[i]['actions']\n",
    "            rewards = samples[i]['rewards']\n",
    "            next_states = samples[i]['next_states']\n",
    "\n",
    "            for j in range(len(states)):\n",
    "                A[states[j],actions[j]] += rewards[j] + np.dot(phi[next_states[j],:],theta) - np.dot(phi[states[j],:],theta)\n",
    "                counter[states[j],actions[j]] += 1\n",
    "                nb_samples += 1\n",
    "        for s in range(env.n_states):\n",
    "            for a in range(env.n_actions):\n",
    "                if counter[s,a]!=0:\n",
    "                    A[s,a] /= counter[s,a]\n",
    "        for i in range(len(samples)):\n",
    "            states = samples[i]['states']\n",
    "            actions = samples[i]['actions']\n",
    "            for j in range(len(states)):\n",
    "                res += np.exp(eta*A[states[j],actions[j]])\n",
    "        res /= nb_samples\n",
    "        return (np.log(res)/eta)\n",
    "\n",
    "    def Dg(self, theta, eta, phi, samples):\n",
    "        n_states,p = np.shape(phi)\n",
    "        numerator = 0\n",
    "        denominator = 0\n",
    "        A = np.zeros((env.n_states,env.n_actions))\n",
    "        D = np.zeros((env.n_states,env.n_actions,p))\n",
    "        counter = np.zeros((env.n_states,env.n_actions))\n",
    "        for i in range(len(samples)):\n",
    "            states = samples[i]['states']\n",
    "            actions = samples[i]['actions']\n",
    "            rewards = samples[i]['rewards']\n",
    "            next_states = samples[i]['next_states']\n",
    "\n",
    "            for j in range(len(states)):\n",
    "                A[states[j],actions[j]] += rewards[j] + np.dot(phi[next_states[j],:],theta) - np.dot(phi[states[j],:],theta)\n",
    "                D[states[j],actions[j],:] += phi[next_states[j],:] - phi[states[j],:]\n",
    "                counter[states[j],actions[j]] += 1\n",
    "        for s in range(env.n_states):\n",
    "            for a in range(env.n_actions):\n",
    "                if counter[s,a]!=0:\n",
    "                    A[s,a] /= counter[s,a]\n",
    "        for s in range(env.n_states):\n",
    "            for a in range(env.n_actions):\n",
    "                if counter[s,a]!=0:\n",
    "                    D[s,a,:] /= counter[s,a]\n",
    "        for i in range(len(samples)):\n",
    "            states = samples[i]['states']\n",
    "            actions = samples[i]['actions']\n",
    "            for j in range(len(states)):\n",
    "                numerator += np.exp(eta*A[states[j],actions[j]]) * D[states[j],actions[j]]\n",
    "                denominator += np.exp(eta*A[states[j],actions[j]])\n",
    "        return ((1/eta) * numerator / denominator)\n",
    "\n",
    "    def compute_phi(self,p):\n",
    "        phi = np.zeros((self.env.n_states,p))\n",
    "        for k in range(self.env.n_states):\n",
    "            phi[k,:] = [k,k**2,np.log(k+1)]\n",
    "        return phi\n",
    "\n",
    "    def policy_update(self):\n",
    "        \"\"\"Relative Entropy Policy Search using Mirror Descent\"\"\"\n",
    "        p = 3    \n",
    "        # initialization of the distribution\n",
    "        pi = self.initialize_pi()\n",
    "        policy = Policy(pi)\n",
    "        #Tmax =  -100*np.log(10e-6)/(1-env.gamma)\n",
    "        T = 100\n",
    "        theta = [0 for i in range(p)]\n",
    "        phi = self.compute_phi(p)\n",
    "        \n",
    "        for k in tqdm(range(self.K), desc=\"Iterating REPS algorithm...\"):\n",
    "            ##### SAMPLING\n",
    "            samples = self.collect_episodes(policy=policy,horizon=T,n_episodes=self.N)\n",
    "\n",
    "            #### OPTIMIZE\n",
    "            theta = opt.fmin_bfgs(self.g,x0=theta,fprime=self.Dg,args=(self.eta,phi,samples), disp=0)\n",
    "\n",
    "            #### COMPUTE THE NEW POLICY\n",
    "            policy = self.compute_new_policy(self.eta,policy,phi,theta,samples) \n",
    "            \n",
    "        self.policy = policy\n",
    "        self.theta = theta\n",
    "        self.phi = phi\n",
    "        \n",
    "    "
   ]
  },
  {
   "cell_type": "code",
   "execution_count": 22,
   "metadata": {
    "collapsed": false
   },
   "outputs": [
    {
     "name": "stderr",
     "output_type": "stream",
     "text": [
      "Iterating REPS algorithm...: 100%|██████████| 50/50 [06:10<00:00, 10.55s/it]\n"
     ]
    }
   ],
   "source": [
    "REPS_model = REPS(env)\n",
    "REPS_model.policy_update()"
   ]
  },
  {
   "cell_type": "code",
   "execution_count": 23,
   "metadata": {
    "collapsed": true
   },
   "outputs": [],
   "source": [
    "REPS_model.render_policy()"
   ]
  },
  {
   "cell_type": "markdown",
   "metadata": {},
   "source": [
    "## DPP-RL Algorithm \n",
    "### based on the paper \"Dynamic Policy Programming\" in docs file"
   ]
  },
  {
   "cell_type": "code",
   "execution_count": 8,
   "metadata": {
    "collapsed": true
   },
   "outputs": [],
   "source": [
    "class DPP(RLModel):\n",
    "    \n",
    "    def __init__(self, env, K=50, eta=0.1):\n",
    "        RLModel.__init__(self, env)\n",
    "        self.K = K\n",
    "        self.eta = eta\n",
    "\n",
    "    def update_pi(self, pi, phi):\n",
    "        n_states,n_actions = np.shape(pi)\n",
    "        pi = np.zeros((n_states,n_actions))\n",
    "        for s in range(n_states):\n",
    "            a = np.argmax(phi[s,:])\n",
    "            pi[s,a] = 1\n",
    "        return(pi)\n",
    "\n",
    "    def compute_Mphi(self, phi):\n",
    "        n_states,n_actions = np.shape(phi)\n",
    "        Mphi =  np.zeros(n_states)\n",
    "        for s in range(n_states):\n",
    "            numerator = 0\n",
    "            denominator = 0\n",
    "            for a in range(n_actions):\n",
    "                numerator += np.exp(self.eta*phi[s,a]) * phi[s,a]\n",
    "                denominator += np.exp(self.eta*phi[s,a])\n",
    "            Mphi[s] = numerator / denominator\n",
    "        return(Mphi)\n",
    "\n",
    "    def update_phi(self, pi, phi):\n",
    "        n_states,n_actions = np.shape(pi)\n",
    "        Mphi = self.compute_Mphi(phi)\n",
    "        for s in range(n_states):\n",
    "            for a in range(n_actions):\n",
    "                next_state, reward, _ = self.env.step(action=a,state=s)\n",
    "                bellman_op = reward + self.env.gamma * Mphi[next_state]\n",
    "                phi[s,a] += bellman_op - Mphi[s]\n",
    "        return phi\n",
    "\n",
    "    def policy_update(self):\n",
    "        pi = self.initialize_pi()\n",
    "        phi = np.ones((self.env.n_states, self.env.n_actions))\n",
    "        \n",
    "        for k in tqdm(range(self.K), desc=\"Iterating DPP algorithm...\"):\n",
    "            phi = self.update_phi(pi, phi)\n",
    "            pi = self.update_pi(pi, phi)\n",
    "            \n",
    "        self.policy = Policy(pi)\n",
    "        self.phi = phi\n",
    "        "
   ]
  },
  {
   "cell_type": "code",
   "execution_count": 9,
   "metadata": {
    "collapsed": false
   },
   "outputs": [
    {
     "name": "stderr",
     "output_type": "stream",
     "text": [
      "Iterating DPP algorithm...: 100%|██████████| 50/50 [00:00<00:00, 1439.00it/s]\n"
     ]
    }
   ],
   "source": [
    "DPP_model = DPP(env)\n",
    "DPP_model.policy_update()"
   ]
  },
  {
   "cell_type": "code",
   "execution_count": 10,
   "metadata": {
    "collapsed": false
   },
   "outputs": [],
   "source": [
    "DPP_model.render_policy()"
   ]
  },
  {
   "cell_type": "markdown",
   "metadata": {},
   "source": [
    "# TRPO"
   ]
  },
  {
   "cell_type": "code",
   "execution_count": 11,
   "metadata": {
    "collapsed": true
   },
   "outputs": [],
   "source": [
    "class TRPO(RLModel):\n",
    "    def __init__(self, env, K=200, N = 100, eta=0.1):\n",
    "        RLModel.__init__(self, env)\n",
    "        self.K = K\n",
    "        self.N = N\n",
    "        self.eta = eta\n",
    "\n",
    "    def compute_Q(self, samples, Q):\n",
    "        n_states,n_actions = np.shape(Q)\n",
    "        counter = np.zeros((n_states,n_actions))\n",
    "        for i in range(len(samples)):\n",
    "            states = samples[i]['states']\n",
    "            actions = samples[i]['actions']\n",
    "            rewards = samples[i]['rewards']\n",
    "            next_states = samples[i]['next_states']\n",
    "\n",
    "            cumulated_rwd = 0\n",
    "            for j in range(len(states)):\n",
    "                t = len(states) -1 - j\n",
    "                cumulated_rwd = self.env.gamma * cumulated_rwd + rewards[t]\n",
    "                Q[states[t],actions[t]] += cumulated_rwd\n",
    "                counter[states[t],actions[t]] += 1\n",
    "\n",
    "        for s in range(n_states):\n",
    "            for a in range(n_actions):\n",
    "                if counter[s,a]!=0:\n",
    "                    Q[s,a] /= counter[s,a]\n",
    "        return Q\n",
    "\n",
    "\n",
    "    def compute_value_function(self, Q, pi):\n",
    "        n_states,n_actions = np.shape(Q)\n",
    "        V = np.zeros(n_states)\n",
    "        for s in range(n_states):\n",
    "            for a in range(n_actions):\n",
    "                V[s] += pi[s,a] * Q[s,a]\n",
    "        return V\n",
    "\n",
    "    def compute_advantage_function(self, pi, V, samples):\n",
    "        n_states, n_actions = np.shape(pi)\n",
    "        A = np.zeros((n_states,n_actions))\n",
    "        counter = np.zeros((n_states,n_actions))\n",
    "\n",
    "        for i in range(len(samples)):\n",
    "            states = samples[i]['states']\n",
    "            actions = samples[i]['actions']\n",
    "            rewards = samples[i]['rewards']\n",
    "            next_states = samples[i]['next_states']\n",
    "\n",
    "            for j in range(len(states)):\n",
    "                A[states[j],actions[j]] += rewards[j] + V[next_states[j]] - V[states[j]]\n",
    "                counter[states[j],actions[j]] += 1\n",
    "\n",
    "        for s in range(n_states):\n",
    "            for a in range(n_actions):\n",
    "                if counter[s,a]!=0:\n",
    "                    A[s,a] /= counter[s,a]\n",
    "        return A\n",
    "\n",
    "    def update_pi(self, pi, A):\n",
    "        n_states,n_actions = np.shape(pi)\n",
    "        for s in range(n_states):\n",
    "            for a in range(n_actions):\n",
    "                pi[s,a] *= np.exp(self.eta * A[s,a]) \n",
    "            pi[s,:] /= np.sum(pi[s,:])\n",
    "        return(pi)\n",
    "\n",
    "\n",
    "    def policy_update(self):\n",
    "        pi = self.initialize_pi()\n",
    "        A = np.ones((env.n_states,env.n_actions))\n",
    "        Q = np.ones((env.n_states,env.n_actions))\n",
    "        V = np.ones(env.n_states)\n",
    "        T = 100\n",
    "        for k in tqdm(range(self.K), desc=\"Iterating TRPO algorithm...\"):\n",
    "            policy = Policy(pi)\n",
    "            ##### SAMPLING\n",
    "            samples = self.collect_episodes(policy=policy,horizon=T,n_episodes=self.N)  \n",
    "\n",
    "            #### COMPUTE Q FUNCTION\n",
    "            Q = self.compute_Q(samples,Q)\n",
    "\n",
    "            #### COMPUTE VALUE FUNCTION\n",
    "            V = self.compute_value_function(Q,pi)\n",
    "\n",
    "            #### COMPUTE ADVANTAGE FUNCTION\n",
    "            A = self.compute_advantage_function(pi,V,samples)\n",
    "\n",
    "            #### COMPUTE THE NEW POLICY\n",
    "            pi = self.update_pi(pi, A)  \n",
    "            \n",
    "        self.policy = Policy(pi)\n",
    "        self.A = A\n",
    "        self.V = V\n",
    "        self.Q = Q\n",
    "        "
   ]
  },
  {
   "cell_type": "code",
   "execution_count": 12,
   "metadata": {
    "collapsed": false
   },
   "outputs": [
    {
     "name": "stderr",
     "output_type": "stream",
     "text": [
      "Iterating TRPO algorithm...: 100%|██████████| 200/200 [00:04<00:00, 55.92it/s]\n"
     ]
    }
   ],
   "source": [
    "TRPO_model = TRPO(env)\n",
    "TRPO_model.policy_update()"
   ]
  },
  {
   "cell_type": "code",
   "execution_count": 13,
   "metadata": {
    "collapsed": true
   },
   "outputs": [],
   "source": [
    "TRPO_model.render_policy()"
   ]
  },
  {
   "cell_type": "markdown",
   "metadata": {},
   "source": [
    "# A3C"
   ]
  },
  {
   "cell_type": "code",
   "execution_count": 16,
   "metadata": {
    "collapsed": true
   },
   "outputs": [],
   "source": [
    "class A3C(TRPO):\n",
    "    def __init__(self, env, K=300, N = 100, eta=0.1):\n",
    "        TRPO.__init__(self, env, K, N, eta)\n",
    "        self.K = K\n",
    "        self.N = N\n",
    "        self.eta_init = eta\n",
    "\n",
    "    def update_pi(self, pi, A):\n",
    "        n_states,n_actions = np.shape(pi)\n",
    "        for s in range(n_states):\n",
    "            for a in range(n_actions):\n",
    "                pi[s,a] = np.exp(self.eta * A[s,a]) \n",
    "            pi[s,:] /= np.sum(pi[s,:])\n",
    "        return(pi)\n",
    "    \n",
    "    def update_eta(self):\n",
    "        self.eta += self.eta_init\n",
    "\n",
    "    def policy_update(self):\n",
    "        pi = self.initialize_pi()\n",
    "        A = np.ones((env.n_states,env.n_actions))\n",
    "        Q = np.ones((env.n_states,env.n_actions))\n",
    "        V = np.ones(env.n_states)\n",
    "        T = 100\n",
    "        for k in tqdm(range(self.K), desc=\"Iterating A3C algorithm...\"):\n",
    "            ##### UPDATING ETA\n",
    "            self.update_eta()\n",
    "            \n",
    "            ##### CONSTRUCTING POLICY\n",
    "            policy = Policy(pi)\n",
    "            \n",
    "            ##### SAMPLING\n",
    "            samples = self.collect_episodes(policy=policy,horizon=T,n_episodes=self.N)  \n",
    "\n",
    "            #### COMPUTE Q FUNCTION\n",
    "            Q = self.compute_Q(samples,Q)\n",
    "\n",
    "            #### COMPUTE VALUE FUNCTION\n",
    "            V = self.compute_value_function(Q,pi)\n",
    "\n",
    "            #### COMPUTE ADVANTAGE FUNCTION\n",
    "            A = self.compute_advantage_function(pi,V,samples)\n",
    "\n",
    "            #### COMPUTE THE NEW POLICY\n",
    "            pi = self.update_pi(pi, A)  \n",
    "            \n",
    "        self.policy = Policy(pi)\n",
    "        self.A = A\n",
    "        self.V = V\n",
    "        self.Q = Q\n",
    "        "
   ]
  },
  {
   "cell_type": "code",
   "execution_count": 17,
   "metadata": {
    "collapsed": false
   },
   "outputs": [
    {
     "name": "stderr",
     "output_type": "stream",
     "text": [
      "Iterating A3C algorithm...: 100%|██████████| 300/300 [00:13<00:00, 22.03it/s]\n"
     ]
    }
   ],
   "source": [
    "A3C_model = A3C(env)\n",
    "A3C_model.policy_update()"
   ]
  },
  {
   "cell_type": "code",
   "execution_count": 18,
   "metadata": {
    "collapsed": false
   },
   "outputs": [],
   "source": [
    "A3C_model.render_policy()"
   ]
  },
  {
   "cell_type": "code",
   "execution_count": null,
   "metadata": {
    "collapsed": true
   },
   "outputs": [],
   "source": [
    "# TODO : Plot functions for reward and sensitivity to eta"
   ]
  }
 ],
 "metadata": {
  "kernelspec": {
   "display_name": "Python 3",
   "language": "python",
   "name": "python3"
  },
  "language_info": {
   "codemirror_mode": {
    "name": "ipython",
    "version": 3
   },
   "file_extension": ".py",
   "mimetype": "text/x-python",
   "name": "python",
   "nbconvert_exporter": "python",
   "pygments_lexer": "ipython3",
   "version": "3.5.4"
  }
 },
 "nbformat": 4,
 "nbformat_minor": 2
}
